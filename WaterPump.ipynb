{
 "cells": [
  {
   "cell_type": "markdown",
   "metadata": {},
   "source": [
    "# Water Pump\n",
    "### Register for Google Elevation API as API key is required to run this notebook"
   ]
  },
  {
   "cell_type": "code",
   "execution_count": 23,
   "metadata": {
    "collapsed": false
   },
   "outputs": [],
   "source": [
    "import pandas as pd\n",
    "import matplotlib\n",
    "import seaborn\n",
    "import requests\n",
    "import itertools\n",
    "import numpy as np\n",
    "import re\n",
    "import json\n",
    "from pandas.io.json import json_normalize"
   ]
  },
  {
   "cell_type": "code",
   "execution_count": 24,
   "metadata": {
    "collapsed": false
   },
   "outputs": [],
   "source": [
    "pumpValues = pd.read_csv('data.csv', index_col='id')"
   ]
  },
  {
   "cell_type": "code",
   "execution_count": 25,
   "metadata": {
    "collapsed": true
   },
   "outputs": [],
   "source": [
    "pumpResponse = pd.read_csv('response.csv', index_col='id')"
   ]
  },
  {
   "cell_type": "code",
   "execution_count": 26,
   "metadata": {
    "collapsed": false
   },
   "outputs": [],
   "source": [
    "main = pumpValues.join(pumpResponse)"
   ]
  },
  {
   "cell_type": "code",
   "execution_count": 28,
   "metadata": {
    "collapsed": false
   },
   "outputs": [
    {
     "data": {
      "text/plain": [
       "(59400, 40)"
      ]
     },
     "execution_count": 28,
     "metadata": {},
     "output_type": "execute_result"
    }
   ],
   "source": [
    "main.shape"
   ]
  },
  {
   "cell_type": "markdown",
   "metadata": {},
   "source": [
    "### Preprocessing\n",
    "#### Data Cleaning\n",
    "Marked missing or incorrect data as 'NA'\n",
    "#### Fetch Missing Altitude Data\n",
    "Uses Google's Elevation API to fetch missing water point altitude data (requires API Key).\n",
    "#### Introduce Few Features\n",
    "Added funder and installer types as well as a categorical column to check whether funder is installer"
   ]
  },
  {
   "cell_type": "code",
   "execution_count": 29,
   "metadata": {
    "collapsed": false
   },
   "outputs": [],
   "source": [
    "# Column types\n",
    "dtypes = {\n",
    "        'funder' : str,\n",
    "        'installer' : str,\n",
    "        'wpt_name' : str,\n",
    "        'basin' : str,\n",
    "        'subvillage' : str,\n",
    "        'region' : str,\n",
    "        'lga' : str,\n",
    "        'ward' : str,\n",
    "        'public_meeting' : str,\n",
    "        'scheme_management' : str,\n",
    "        'scheme_name' : str,\n",
    "        'permit' : str,\n",
    "        'extraction_type' : str,\n",
    "        'extraction_type_group' : str,\n",
    "        'extraction_type_class' : str,\n",
    "        'management' : str,\n",
    "        'management_group' : str,\n",
    "        'payment_type' : str,\n",
    "        'payment' : str,\n",
    "        'water_quality' : str,\n",
    "        'quality_group' : str,\n",
    "        'source_type' : str,\n",
    "        'source' : str,\n",
    "        'quantity' : str,\n",
    "        'quantity_group': str,\n",
    "        'source_class' : str,\n",
    "        'waterpoint_type_group' : str,\n",
    "        'waterpoint_type' : str,\n",
    "        'status_group' : str\n",
    "}\n",
    "\n",
    "ngos = ['acra','accord','OXFAM','AMREF','WATERAID','ngo']\n",
    "intaid = ['unice','NORAD','JAICA','JICA','HIFAB','DANIDA','UNICEF']\n",
    "african = ['afri','ADB','African Development Bank']\n",
    "intgov = ['HESAWA','british','germany','netherland','belgium','norway','finland']\n",
    "worldbank = ['RWSSP','RUDEP','WORLD BANK','RURAL WATER SUPPLY AND SANITAT']\n",
    "institution = ngos + intaid + worldbank + ['TASAF','TAASAF'] \n",
    "gover = ['WSDP','DWSP','gove','DISTRICT','ministry','TANZANIA']\n",
    "church = ['christ','WORLD VISION','AICT','ADRA','KKKT','chur','bapt','MISSION','CATHO','ROMAN']\n",
    "\n",
    "def split_seq(iterable, size):\n",
    "    it = iter(iterable)\n",
    "    item = list(itertools.islice(it, size))\n",
    "    while item:\n",
    "        yield item\n",
    "        item = list(itertools.islice(it, size))    \n",
    "\n",
    "\n",
    "def contains(x, orgs):\n",
    "    for org in orgs:\n",
    "        if re.search(org,x, re.IGNORECASE):\n",
    "            return True\n",
    "    return False\n",
    "  \n",
    "def is_funder_installer(row):\n",
    "    funder = row['funder']\n",
    "    installer = row['installer']\n",
    "    if funder == 'NA' or installer == 'NA':\n",
    "        return 'NA'\n",
    "    elif funder[:4] == installer[:4]:\n",
    "        return 'Y'\n",
    "    else:\n",
    "        return 'N'\n",
    "\n",
    "def categorize_installer(x):\n",
    "    if contains(x, gover):\n",
    "        return 'GOVER'\n",
    "    elif contains(x, african):\n",
    "        return 'AFRICA'\n",
    "    elif contains(x, intgov):\n",
    "        return 'INTGOV'\n",
    "    elif contains(x, church):\n",
    "        return 'CHURCH'\n",
    "    elif re.search('private', x, re.IGNORECASE):\n",
    "        return 'PRIVATE'\n",
    "    elif x =='GO' or contains(x,institution):\n",
    "        return 'INTAID'\n",
    "    else:\n",
    "        return 'OTHER'\n",
    "    \n",
    "def populate_height(main_df, key):\n",
    "    \"\"\" \n",
    "    Uses Google's Elevation API to populate gps_height from latitude and longitude.\n",
    "    main_df = Main DataFrame\n",
    "    key = Google API Key\n",
    "    \"\"\"    \n",
    "    print(main_df.gps_height.apply(np.isnan).sum())\n",
    "    no_alt_df = main_df[main_df.gps_height == 0]\n",
    "    print(no_alt_df.shape)\n",
    "    a = zip(no_alt_df['latitude'],no_alt_df['longitude'])\n",
    "    lat_long_lst = list(split_seq(a,300))\n",
    "    print('Total {} Google Elevation API calls will be made'.format(len(lat_long_lst)))\n",
    "    frames = []\n",
    "    for locs in lat_long_lst:\n",
    "        locations = ''\n",
    "        for lat,long in locs:\n",
    "            locations += str(round(lat,8)) + ',' + str(round(long, 8)) + '|'\n",
    "        payload = 'locations='+ locations[:-1] +'&key=' + key\n",
    "        url = 'https://maps.googleapis.com/maps/api/elevation/json'\n",
    "        res = requests.get(url, params=payload)\n",
    "        if res.status_code == requests.codes.ok:\n",
    "            first_response_json = res.json()\n",
    "            frames.append(json_normalize(first_response_json['results']))\n",
    "\n",
    "    alt_df = pd.concat(frames)\n",
    "    alt_df.index = no_alt_df.index\n",
    "    main_df['gps_height'] = main_df.gps_height.combine(alt_df['elevation'].apply(round), lambda x,y: y if x == 0 else x)\n",
    "    assert main_df[main_df.gps_height == 0].shape[0] == 0\n",
    "    print(main_df.gps_height.apply(np.isnan).sum())\n",
    "    return main_df\n",
    "\n",
    "\n",
    "def preprocess(main, api_key,is_train=True):\n",
    "    # Remove incorrect lat/long data\n",
    "    if is_train:\n",
    "        main = main[main.longitude != 0]\n",
    "    # Populate gps_height\n",
    "    main = populate_height(main, api_key)\n",
    "    # To Upper\n",
    "    for key, val in dtypes.items():\n",
    "        if val is str:\n",
    "            main[key] = main[key].str.upper()\n",
    "    # Remove NaN\n",
    "    na_values = { \n",
    "                'installer':'NA',\n",
    "                'funder':'NA',\n",
    "                'quantity_group':'NA',\n",
    "                'quantity':'NA',\n",
    "                'basin' :'NA', \n",
    "                'payment_type':'NA', \n",
    "                'public_meeting':'NA', \n",
    "                'permit':'NA', \n",
    "                'region' :'NA', \n",
    "                'lga':'NA', \n",
    "                'ward':'NA', \n",
    "                'subvillage' :'NA', \n",
    "                'scheme_management':'NA', \n",
    "                'scheme_name':'NA'}\n",
    "    main = main.fillna(value=na_values)\n",
    "    # Set 0s are NA in String columns\n",
    "    for key, val in dtypes.items():\n",
    "        if val is str:\n",
    "            main[key] = main[key].apply(lambda x: 'NA' if x == '0' else x)\n",
    "    # Add funder_type\n",
    "    main['funder_type'] = main.funder.apply(categorize_installer)\n",
    "    # Add installer type\n",
    "    main['installer_type'] = main.installer.apply(categorize_installer)\n",
    "    # Add funder_is_installer\n",
    "    main['funder_is_installer'] = main[['funder','installer']].apply(is_funder_installer, axis=1)\n",
    "\n",
    "    return main"
   ]
  },
  {
   "cell_type": "code",
   "execution_count": 30,
   "metadata": {
    "collapsed": false
   },
   "outputs": [
    {
     "name": "stdout",
     "output_type": "stream",
     "text": [
      "0\n",
      "(18626, 40)\n",
      "Total 63 Google Elevation API calls will be made\n"
     ]
    },
    {
     "name": "stderr",
     "output_type": "stream",
     "text": [
      "/Users/Zuber/anaconda/lib/python3.5/site-packages/ipykernel/__main__.py:77: SettingWithCopyWarning: \n",
      "A value is trying to be set on a copy of a slice from a DataFrame.\n",
      "Try using .loc[row_indexer,col_indexer] = value instead\n",
      "\n",
      "See the caveats in the documentation: http://pandas.pydata.org/pandas-docs/stable/indexing.html#indexing-view-versus-copy\n",
      "/Users/Zuber/anaconda/lib/python3.5/site-packages/ipykernel/__main__.py:92: SettingWithCopyWarning: \n",
      "A value is trying to be set on a copy of a slice from a DataFrame.\n",
      "Try using .loc[row_indexer,col_indexer] = value instead\n",
      "\n",
      "See the caveats in the documentation: http://pandas.pydata.org/pandas-docs/stable/indexing.html#indexing-view-versus-copy\n"
     ]
    },
    {
     "name": "stdout",
     "output_type": "stream",
     "text": [
      "0\n"
     ]
    }
   ],
   "source": [
    "main = preprocess(main=main,api_key='')"
   ]
  },
  {
   "cell_type": "code",
   "execution_count": 31,
   "metadata": {
    "collapsed": true
   },
   "outputs": [],
   "source": [
    "main.to_csv('final_data.csv')"
   ]
  },
  {
   "cell_type": "code",
   "execution_count": 32,
   "metadata": {
    "collapsed": false
   },
   "outputs": [
    {
     "data": {
      "text/plain": [
       "Index(['amount_tsh', 'date_recorded', 'funder', 'gps_height', 'installer',\n",
       "       'longitude', 'latitude', 'wpt_name', 'num_private', 'basin',\n",
       "       'subvillage', 'region', 'region_code', 'district_code', 'lga', 'ward',\n",
       "       'population', 'public_meeting', 'recorded_by', 'scheme_management',\n",
       "       'scheme_name', 'permit', 'construction_year', 'extraction_type',\n",
       "       'extraction_type_group', 'extraction_type_class', 'management',\n",
       "       'management_group', 'payment', 'payment_type', 'water_quality',\n",
       "       'quality_group', 'quantity', 'quantity_group', 'source', 'source_type',\n",
       "       'source_class', 'waterpoint_type', 'waterpoint_type_group',\n",
       "       'status_group', 'funder_type', 'installer_type', 'funder_is_installer'],\n",
       "      dtype='object')"
      ]
     },
     "execution_count": 32,
     "metadata": {},
     "output_type": "execute_result"
    }
   ],
   "source": [
    "def make_categories(df, cols_to_convert):\n",
    "    for col in cols_to_convert:\n",
    "        df[col + '_cat'] = df[col].astype(\"category\")\n",
    "    return df"
   ]
  }
 ],
 "metadata": {
  "anaconda-cloud": {},
  "kernelspec": {
   "display_name": "Python [conda root]",
   "language": "python",
   "name": "conda-root-py"
  },
  "language_info": {
   "codemirror_mode": {
    "name": "ipython",
    "version": 3.0
   },
   "file_extension": ".py",
   "mimetype": "text/x-python",
   "name": "python",
   "nbconvert_exporter": "python",
   "pygments_lexer": "ipython3",
   "version": "3.5.2"
  }
 },
 "nbformat": 4,
 "nbformat_minor": 0
}